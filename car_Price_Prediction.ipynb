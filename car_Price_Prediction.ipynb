{
  "cells": [
    {
      "cell_type": "markdown",
      "metadata": {
        "id": "view-in-github",
        "colab_type": "text"
      },
      "source": [
        "<a href=\"https://colab.research.google.com/github/Himanshu-Singh11/Colab/blob/main/car_Price_Prediction.ipynb\" target=\"_parent\"><img src=\"https://colab.research.google.com/assets/colab-badge.svg\" alt=\"Open In Colab\"/></a>"
      ]
    },
    {
      "cell_type": "code",
      "source": [
        "#car Price Prediction\n",
        "\n",
        "import pandas as pd\n",
        "import numpy as np\n",
        "from sklearn.model_selection import train_test_split\n",
        "from sklearn.ensemble import RandomForestRegressor\n",
        "from sklearn.preprocessing import OneHotEncoder\n",
        "from sklearn.compose import ColumnTransformer\n",
        "from sklearn.pipeline import Pipeline\n",
        "import joblib\n",
        "\n",
        "df = pd.read_csv(\"/content/car_dataset.csv\")\n",
        "\n",
        "df = df[df['Price'] != 'Ask For Price'].dropna()\n",
        "df['Price'] = df['Price'].str.replace(',', '').astype(int)\n",
        "df['kms_driven'] = df['kms_driven'].str.replace(' kms', '').str.replace(',', '')\n",
        "df['kms_driven'] = df['kms_driven'].replace('', np.nan).dropna().astype(int)\n",
        "df['year'] = df['year'].astype(int)\n",
        "\n",
        "X = df[['company', 'year', 'kms_driven', 'fuel_type']]\n",
        "y = df['Price']\n",
        "\n",
        "categorical = ['company', 'fuel_type']\n",
        "preprocessor = ColumnTransformer([\n",
        "    ('cat', OneHotEncoder(handle_unknown='ignore'), categorical)\n",
        "], remainder='passthrough')\n",
        "\n",
        "model = Pipeline([\n",
        "    ('preprocessor', preprocessor),\n",
        "    ('regressor', RandomForestRegressor(n_estimators=200, random_state=42))\n",
        "])\n",
        "\n",
        "X_train, X_test, y_train, y_test = train_test_split(X, y, test_size=0.2, random_state=42)\n",
        "model.fit(X_train, y_train)\n",
        "joblib.dump(model, 'car_price_model.pkl')\n",
        "\n",
        "def predict_price(company, year, kms, fuel_type):\n",
        "    new_data = pd.DataFrame([[company, year, kms, fuel_type]],\n",
        "                            columns=['company', 'year', 'kms_driven', 'fuel_type'])\n",
        "    base_price = model.predict(new_data)[0]\n",
        "\n",
        "    if year >= 2022:\n",
        "        base_price *= 1.80\n",
        "    elif year >= 2020:\n",
        "        base_price *= 1.50\n",
        "    elif year >= 2015:\n",
        "        base_price *= 1.20\n",
        "    elif year <= 2010:\n",
        "        base_price *= 0.80\n",
        "\n",
        "    if kms >= 100000:\n",
        "        base_price *= 0.70\n",
        "    elif kms >= 70000:\n",
        "        base_price *= 0.80\n",
        "    elif kms >= 50000:\n",
        "        base_price *= 0.90\n",
        "\n",
        "    return int(base_price)\n",
        "\n",
        "company = input(\"Company of Car: \").strip()\n",
        "car_name = input(\"Car Name: \").strip()\n",
        "\n",
        "try:\n",
        "    year = int(input(\"Year of Purchase: \").strip())\n",
        "    kms = int(input(\"Kilometers Driven: \").strip())\n",
        "except:\n",
        "    print(\"Invalid number format for year or kilometers.\")\n",
        "    exit()\n",
        "\n",
        "fuel_type = input(\"Fuel Type (Petrol/Diesel/CNG): \").strip()\n",
        "\n",
        "try:\n",
        "    price = predict_price(company, year, kms, fuel_type)\n",
        "    print(f\"\\n Estimated Price for '{company} {car_name}' ({year}): ₹{price:,}\")\n",
        "except:\n",
        "    print(\" Prediction failed. Please check your inputs.\")\n"
      ],
      "metadata": {
        "colab": {
          "base_uri": "https://localhost:8080/"
        },
        "id": "ohuSYr5DDHQW",
        "outputId": "cc212e5a-5503-42ff-daf2-1fe87b93c24f"
      },
      "execution_count": null,
      "outputs": [
        {
          "output_type": "stream",
          "name": "stdout",
          "text": [
            "Company of Car: Mahindra\n",
            "Car Name: Scorpio\n",
            "Year of Purchase: 2022\n",
            "Kilometers Driven: 11000\n",
            "Fuel Type (Petrol/Diesel/CNG): Petrol\n",
            "\n",
            " Estimated Price for 'Mahindra Scorpio' (2022): ₹887,390\n"
          ]
        }
      ]
    }
  ],
  "metadata": {
    "colab": {
      "provenance": [],
      "include_colab_link": true
    },
    "kernelspec": {
      "display_name": "Python 3",
      "name": "python3"
    }
  },
  "nbformat": 4,
  "nbformat_minor": 0
}