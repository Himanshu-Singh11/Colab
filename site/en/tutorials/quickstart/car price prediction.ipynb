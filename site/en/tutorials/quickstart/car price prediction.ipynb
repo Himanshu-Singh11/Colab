{
  "cells": [
    {
      "cell_type": "code",
      "source": [
        "import pandas as pd\n",
        "import numpy as np\n",
        "from sklearn.model_selection import train_test_split\n",
        "from sklearn.ensemble import RandomForestRegressor\n",
        "from sklearn.metrics import mean_absolute_error, mean_squared_error, r2_score\n",
        "from sklearn.preprocessing import OneHotEncoder\n",
        "from sklearn.compose import ColumnTransformer\n",
        "from sklearn.pipeline import Pipeline\n",
        "import joblib\n",
        "\n",
        "df = pd.read_csv(\"/content/car_dataset.csv\")\n",
        "\n",
        "df = df[df['Price'] != 'Ask For Price'].dropna()\n",
        "df['Price'] = df['Price'].str.replace(',', '').astype(int)\n",
        "df['kms_driven'] = df['kms_driven'].str.replace(' kms', '').str.replace(',', '')\n",
        "df['kms_driven'] = df['kms_driven'].replace('', np.nan).dropna().astype(int)\n",
        "df['year'] = df['year'].astype(int)\n",
        "\n",
        "X = df[['company', 'year', 'kms_driven', 'fuel_type']]\n",
        "y = df['Price']\n",
        "\n",
        "categorical = ['company', 'fuel_type']\n",
        "preprocessor = ColumnTransformer([\n",
        "    ('cat', OneHotEncoder(handle_unknown='ignore'), categorical)\n",
        "], remainder='passthrough')\n",
        "\n",
        "model = Pipeline([\n",
        "    ('preprocessor', preprocessor),\n",
        "    ('regressor', RandomForestRegressor(n_estimators=200, random_state=42))\n",
        "])\n",
        "\n",
        "X_train, X_test, y_train, y_test = train_test_split(X, y, test_size=0.2, random_state=42)\n",
        "model.fit(X_train, y_train)\n",
        "\n",
        "joblib.dump(model, 'car_price_model.pkl')\n",
        "\n",
        "def predict_price(company, year, kms, fuel_type):\n",
        "    new_data = pd.DataFrame([[company, year, kms, fuel_type]],\n",
        "                            columns=['company', 'year', 'kms_driven', 'fuel_type'])\n",
        "    return int(model.predict(new_data)[0])\n",
        "\n",
        "car_name = input(\"Car Name : \").strip()\n",
        "company = input(\"Company : \").strip()\n",
        "try:\n",
        "    year = int(input(\"Year of Purchase (e.g., 2018): \").strip())\n",
        "    kms = int(input(\"Kilometers Driven (e.g., 25000): \").strip())\n",
        "except:\n",
        "    print(\"Please enter valid numbers for year and kilometers.\")\n",
        "    raise SystemExit\n",
        "fuel_type = input(\"Fuel Type (Petrol/Diesel/CNG): \").strip()\n",
        "\n",
        "try:\n",
        "    result = predict_price(company, year, kms, fuel_type)\n",
        "    print(f\"\\nPredicted Price for '{car_name}': ₹{result:,}\")\n",
        "except Exception as e:\n",
        "    print(\"Prediction failed. Please check your input values.\")\n"
      ],
      "metadata": {
        "id": "7MLso90g8-_D",
        "outputId": "09c4501b-9506-41a1-a1f9-3b0e703868a1",
        "colab": {
          "base_uri": "https://localhost:8080/"
        }
      },
      "execution_count": 20,
      "outputs": [
        {
          "output_type": "stream",
          "name": "stdout",
          "text": [
            "Car Name : Q3\n",
            "Company : BMW\n",
            "Year of Purchase (e.g., 2018): 2025\n",
            "Kilometers Driven (e.g., 25000): 1000\n",
            "Fuel Type (Petrol/Diesel/CNG): Petrol\n",
            "\n",
            "Predicted Price for 'Q3': ₹640,319\n"
          ]
        }
      ]
    }
  ],
  "metadata": {
    "colab": {
      "name": "beginner.ipynb",
      "provenance": []
    },
    "kernelspec": {
      "display_name": "Python 3",
      "name": "python3"
    }
  },
  "nbformat": 4,
  "nbformat_minor": 0
}