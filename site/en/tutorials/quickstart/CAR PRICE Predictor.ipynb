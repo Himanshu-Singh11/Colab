{
  "cells": [
    {
      "cell_type": "code",
      "source": [
        "#car Price Prediction\n",
        "import pandas as pd\n",
        "import numpy as np\n",
        "from sklearn.model_selection import train_test_split\n",
        "from sklearn.ensemble import RandomForestRegressor\n",
        "from sklearn.preprocessing import OneHotEncoder\n",
        "from sklearn.compose import ColumnTransformer\n",
        "from sklearn.pipeline import Pipeline\n",
        "import joblib\n",
        "\n",
        "# Load and clean data\n",
        "df = pd.read_csv(\"/content/car_dataset.csv\")\n",
        "df = df[df['Price'] != 'Ask For Price'].dropna()\n",
        "df['Price'] = df['Price'].str.replace(',', '').astype(int)\n",
        "df['kms_driven'] = df['kms_driven'].str.replace(' kms', '').str.replace(',', '')\n",
        "df['kms_driven'] = df['kms_driven'].replace('', np.nan).dropna().astype(int)\n",
        "df['year'] = df['year'].astype(int)\n",
        "\n",
        "# Features and target\n",
        "X = df[['company', 'year', 'kms_driven', 'fuel_type']]\n",
        "y = df['Price']\n",
        "\n",
        "# Preprocessing and model pipeline\n",
        "categorical = ['company', 'fuel_type']\n",
        "preprocessor = ColumnTransformer([\n",
        "    ('cat', OneHotEncoder(handle_unknown='ignore'), categorical)\n",
        "], remainder='passthrough')\n",
        "\n",
        "model = Pipeline([\n",
        "    ('preprocessor', preprocessor),\n",
        "    ('regressor', RandomForestRegressor(n_estimators=200, random_state=42))\n",
        "])\n",
        "\n",
        "# Train and save model\n",
        "X_train, X_test, y_train, y_test = train_test_split(X, y, test_size=0.2, random_state=42)\n",
        "model.fit(X_train, y_train)\n",
        "joblib.dump(model, 'car_price_model.pkl')\n",
        "\n",
        "# Adjusted prediction function\n",
        "def predict_price(company, year, kms, fuel_type):\n",
        "    new_data = pd.DataFrame([[company, year, kms, fuel_type]],\n",
        "                            columns=['company', 'year', 'kms_driven', 'fuel_type'])\n",
        "    base_price = model.predict(new_data)[0]\n",
        "\n",
        "    # Custom logic: Adjust prediction\n",
        "    if year >= 2022:\n",
        "        base_price *= 1.25  # boost 25%\n",
        "    elif year >= 2020:\n",
        "        base_price *= 1.15  # boost 15%\n",
        "    elif year >= 2015:\n",
        "        base_price *= 1.05  # small boost\n",
        "    elif year <= 2010:\n",
        "        base_price *= 0.85  # reduce for old cars\n",
        "\n",
        "    if kms >= 100000:\n",
        "        base_price *= 0.85  # reduce for high kms\n",
        "    elif kms >= 70000:\n",
        "        base_price *= 0.90\n",
        "    elif kms >= 50000:\n",
        "        base_price *= 0.95\n",
        "\n",
        "    return int(base_price)\n",
        "\n",
        "# User input\n",
        "company = input(\"Company of Car: \").strip()\n",
        "car_name = input(\"Car Name: \").strip()  # For display only\n",
        "\n",
        "try:\n",
        "    year = int(input(\"Year of Purchase: \").strip())\n",
        "    kms = int(input(\"Kilometers Driven: \").strip())\n",
        "except:\n",
        "    print(\"Invalid number format for year or kilometers.\")\n",
        "    exit()\n",
        "\n",
        "fuel_type = input(\"Fuel Type (Petrol/Diesel/CNG): \").strip()\n",
        "\n",
        "# Output\n",
        "try:\n",
        "    price = predict_price(company, year, kms, fuel_type)\n",
        "    print(f\"\\n🚗 Estimated Price for '{car_name}' from {company} ({year}): ₹{price:,}\")\n",
        "except:\n",
        "    print(\"❌ Prediction failed. Please check your inputs.\")\n"
      ],
      "metadata": {
        "id": "ohuSYr5DDHQW",
        "outputId": "d7b7edcd-ac8a-43ad-8244-6b4e4da3196c",
        "colab": {
          "base_uri": "https://localhost:8080/"
        }
      },
      "execution_count": 37,
      "outputs": [
        {
          "output_type": "stream",
          "name": "stdout",
          "text": [
            "Company of Car: Honda\n",
            "Car Name: City\n",
            "Year of Purchase: 2023\n",
            "Kilometers Driven: 10000\n",
            "Fuel Type (Petrol/Diesel/CNG): Petrol\n",
            "\n",
            "🚗 Estimated Price for 'City' from Honda (2023): ₹636,524\n"
          ]
        }
      ]
    }
  ],
  "metadata": {
    "colab": {
      "name": "beginner.ipynb",
      "provenance": []
    },
    "kernelspec": {
      "display_name": "Python 3",
      "name": "python3"
    }
  },
  "nbformat": 4,
  "nbformat_minor": 0
}